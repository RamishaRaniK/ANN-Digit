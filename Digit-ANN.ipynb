{
 "cells": [
  {
   "cell_type": "code",
   "execution_count": 1,
   "id": "7a1679df",
   "metadata": {},
   "outputs": [],
   "source": [
    "# Basic Libraries\n",
    "import numpy as np\n",
    "import pandas as pd\n",
    "\n",
    "# Visualization libraries\n",
    "import matplotlib.pyplot as plt\n",
    "import pydot\n",
    "import seaborn as sns\n",
    "\n",
    "#Evaluation library\n",
    "from sklearn.metrics import confusion_matrix\n",
    "from sklearn.metrics import accuracy_score\n",
    "from sklearn.model_selection import GridSearchCV\n",
    "\n",
    "# Deep Learning libraries\n",
    "import tensorflow as tf\n",
    "from tensorflow.keras import layers\n",
    "import keras\n",
    "from keras.models import Sequential\n",
    "from keras.layers.core import Dense,Activation,Dropout\n",
    "from keras.datasets import mnist\n",
    "from keras.utils.np_utils import to_categorical\n",
    "from keras.wrappers.scikit_learn import KerasClassifier"
   ]
  },
  {
   "cell_type": "markdown",
   "id": "cc2da36d",
   "metadata": {},
   "source": [
    "# Heading\n",
    "\n",
    "## \n",
    "###\n",
    "####"
   ]
  },
  {
   "cell_type": "code",
   "execution_count": 1,
   "id": "84922ce9",
   "metadata": {},
   "outputs": [
    {
     "name": "stdout",
     "output_type": "stream",
     "text": [
      "Requirement already satisfied: keras in c:\\anaconda3\\envs\\ml\\lib\\site-packages (2.7.0)\n",
      "Note: you may need to restart the kernel to use updated packages.\n"
     ]
    }
   ],
   "source": [
    "#pip install keras"
   ]
  },
  {
   "cell_type": "code",
   "execution_count": null,
   "id": "338c8878",
   "metadata": {},
   "outputs": [],
   "source": [
    "#pip install tensorflow"
   ]
  },
  {
   "cell_type": "code",
   "execution_count": 2,
   "id": "5b0db496",
   "metadata": {},
   "outputs": [],
   "source": [
    "#Digit MNIST dataset\n",
    "(X_train_digit, y_train_digit), (X_test_digit, y_test_digit) = mnist.load_data()"
   ]
  },
  {
   "cell_type": "code",
   "execution_count": 3,
   "id": "53f43015",
   "metadata": {},
   "outputs": [
    {
     "data": {
      "text/plain": [
       "5"
      ]
     },
     "execution_count": 3,
     "metadata": {},
     "output_type": "execute_result"
    }
   ],
   "source": [
    "y_train_digit[0]"
   ]
  },
  {
   "cell_type": "code",
   "execution_count": 4,
   "id": "b21537ad",
   "metadata": {
    "scrolled": true
   },
   "outputs": [
    {
     "data": {
      "image/png": "[encoded data removed]",
      "text/plain": [
       "<Figure size 720x720 with 15 Axes>"
      ]
     },
     "metadata": {},
     "output_type": "display_data"
    }
   ],
   "source": [
    "#Names of numbers in the dataset in order\n",
    "col_names = ['Zero','One','Two','Three','Four','Five','Six','Seven','Eight','Nine']\n",
    "\n",
    "#Visualizing the digits\n",
    "plt.figure(figsize=(10,10))\n",
    "for i in range(15):\n",
    "    plt.subplot(5,5,i+1)\n",
    "    plt.xticks([])\n",
    "    plt.yticks([])\n",
    "    plt.imshow(X_train_digit[i], cmap='gray')\n",
    "    plt.xlabel(col_names[y_train_digit[i]])\n",
    "plt.show()"
   ]
  },
  {
   "cell_type": "code",
   "execution_count": 6,
   "id": "29dc5c43",
   "metadata": {},
   "outputs": [
    {
     "data": {
      "text/plain": [
       "(60000, 28, 28)"
      ]
     },
     "execution_count": 6,
     "metadata": {},
     "output_type": "execute_result"
    }
   ],
   "source": [
    "X_train_digit.shape"
   ]
  },
  {
   "cell_type": "code",
   "execution_count": 7,
   "id": "134fc79f",
   "metadata": {},
   "outputs": [],
   "source": [
    "X_train_digit = X_train_digit.reshape(60000, 784)\n",
    "X_test_digit = X_test_digit.reshape(10000, 784)"
   ]
  },
  {
   "cell_type": "code",
   "execution_count": 8,
   "id": "a16cceec",
   "metadata": {},
   "outputs": [],
   "source": [
    "#Encoding Digit MNIST Labels\n",
    "y_train_digit = to_categorical(y_train_digit, num_classes=10)\n",
    "\n",
    "y_test_digit = to_categorical(y_test_digit, num_classes=10)"
   ]
  },
  {
   "cell_type": "code",
   "execution_count": 9,
   "id": "77058ca2",
   "metadata": {},
   "outputs": [
    {
     "data": {
      "text/plain": [
       "array([[0., 0., 0., ..., 0., 0., 0.],\n",
       "       [1., 0., 0., ..., 0., 0., 0.],\n",
       "       [0., 0., 0., ..., 0., 0., 0.],\n",
       "       ...,\n",
       "       [0., 0., 0., ..., 0., 0., 0.],\n",
       "       [0., 0., 0., ..., 0., 0., 0.],\n",
       "       [0., 0., 0., ..., 0., 1., 0.]], dtype=float32)"
      ]
     },
     "execution_count": 9,
     "metadata": {},
     "output_type": "execute_result"
    }
   ],
   "source": [
    "y_train_digit"
   ]
  },
  {
   "cell_type": "code",
   "execution_count": 35,
   "id": "46ccb32d",
   "metadata": {},
   "outputs": [],
   "source": [
    "#Creating base neural network\n",
    "model = keras.Sequential([\n",
    "    layers.Dense(512, activation='relu', input_shape=(784,)),\n",
    "    layers.Dropout(0.3),\n",
    "    layers.BatchNormalization(),\n",
    "    layers.Dense(24, activation='relu'),\n",
    "    layers.Dropout(0.3),\n",
    "    layers.BatchNormalization(),\n",
    "    layers.Dense(24, activation='relu'),\n",
    "    layers.Dropout(0.3),\n",
    "    layers.BatchNormalization(),\n",
    "    layers.Dense(10,activation='sigmoid'),\n",
    "    \n",
    "])"
   ]
  },
  {
   "cell_type": "code",
   "execution_count": 36,
   "id": "3b9142e4",
   "metadata": {},
   "outputs": [
    {
     "name": "stdout",
     "output_type": "stream",
     "text": [
      "Model: \"sequential_1\"\n",
      "_________________________________________________________________\n",
      " Layer (type)                Output Shape              Param #   \n",
      "=================================================================\n",
      " dense_3 (Dense)             (None, 512)               401920    \n",
      "                                                                 \n",
      " dropout (Dropout)           (None, 512)               0         \n",
      "                                                                 \n",
      " batch_normalization (BatchN  (None, 512)              2048      \n",
      " ormalization)                                                   \n",
      "                                                                 \n",
      " dense_4 (Dense)             (None, 24)                12312     \n",
      "                                                                 \n",
      " dropout_1 (Dropout)         (None, 24)                0         \n",
      "                                                                 \n",
      " batch_normalization_1 (Batc  (None, 24)               96        \n",
      " hNormalization)                                                 \n",
      "                                                                 \n",
      " dense_5 (Dense)             (None, 24)                600       \n",
      "                                                                 \n",
      " dropout_2 (Dropout)         (None, 24)                0         \n",
      "                                                                 \n",
      " batch_normalization_2 (Batc  (None, 24)               96        \n",
      " hNormalization)                                                 \n",
      "                                                                 \n",
      " dense_6 (Dense)             (None, 10)                250       \n",
      "                                                                 \n",
      "=================================================================\n",
      "Total params: 417,322\n",
      "Trainable params: 416,202\n",
      "Non-trainable params: 1,120\n",
      "_________________________________________________________________\n"
     ]
    }
   ],
   "source": [
    "model.summary()"
   ]
  },
  {
   "cell_type": "code",
   "execution_count": 37,
   "id": "e2a7ade4",
   "metadata": {},
   "outputs": [],
   "source": [
    "#https://keras.io/api/losses/probabilistic_losses/#sparsecategoricalcrossentropy-class"
   ]
  },
  {
   "cell_type": "code",
   "execution_count": 38,
   "id": "354ffe7f",
   "metadata": {},
   "outputs": [],
   "source": [
    "#Compiling the model\n",
    "model.compile(loss=\"categorical_crossentropy\",\n",
    "              optimizer=\"adam\",\n",
    "              metrics = ['accuracy'])"
   ]
  },
  {
   "cell_type": "code",
   "execution_count": 39,
   "id": "8218bdae",
   "metadata": {},
   "outputs": [
    {
     "name": "stdout",
     "output_type": "stream",
     "text": [
      "Epoch 1/10\n",
      "WARNING:tensorflow:AutoGraph could not transform <function Model.make_train_function.<locals>.train_function at 0x000001DB2D440708> and will run it as-is.\n",
      "Please report this to the TensorFlow team. When filing the bug, set the verbosity to 10 (on Linux, `export AUTOGRAPH_VERBOSITY=10`) and attach the full output.\n",
      "Cause: 'arguments' object has no attribute 'posonlyargs'\n",
      "To silence this warning, decorate the function with @tf.autograph.experimental.do_not_convert\n",
      "WARNING: AutoGraph could not transform <function Model.make_train_function.<locals>.train_function at 0x000001DB2D440708> and will run it as-is.\n",
      "Please report this to the TensorFlow team. When filing the bug, set the verbosity to 10 (on Linux, `export AUTOGRAPH_VERBOSITY=10`) and attach the full output.\n",
      "Cause: 'arguments' object has no attribute 'posonlyargs'\n",
      "To silence this warning, decorate the function with @tf.autograph.experimental.do_not_convert\n",
      "598/600 [============================>.] - ETA: 0s - loss: 0.8281 - accuracy: 0.7545WARNING:tensorflow:AutoGraph could not transform <function Model.make_test_function.<locals>.test_function at 0x000001DB2DD85C18> and will run it as-is.\n",
      "Please report this to the TensorFlow team. When filing the bug, set the verbosity to 10 (on Linux, `export AUTOGRAPH_VERBOSITY=10`) and attach the full output.\n",
      "Cause: 'arguments' object has no attribute 'posonlyargs'\n",
      "To silence this warning, decorate the function with @tf.autograph.experimental.do_not_convert\n",
      "WARNING: AutoGraph could not transform <function Model.make_test_function.<locals>.test_function at 0x000001DB2DD85C18> and will run it as-is.\n",
      "Please report this to the TensorFlow team. When filing the bug, set the verbosity to 10 (on Linux, `export AUTOGRAPH_VERBOSITY=10`) and attach the full output.\n",
      "Cause: 'arguments' object has no attribute 'posonlyargs'\n",
      "To silence this warning, decorate the function with @tf.autograph.experimental.do_not_convert\n",
      "600/600 [==============================] - 11s 15ms/step - loss: 0.8267 - accuracy: 0.7550 - val_loss: 0.1831 - val_accuracy: 0.9521\n",
      "Epoch 2/10\n",
      "600/600 [==============================] - 9s 15ms/step - loss: 0.3950 - accuracy: 0.8917 - val_loss: 0.1317 - val_accuracy: 0.9616\n",
      "Epoch 3/10\n",
      "600/600 [==============================] - 9s 15ms/step - loss: 0.3201 - accuracy: 0.9135 - val_loss: 0.1190 - val_accuracy: 0.9685\n",
      "Epoch 4/10\n",
      "600/600 [==============================] - 8s 14ms/step - loss: 0.2798 - accuracy: 0.9253 - val_loss: 0.1024 - val_accuracy: 0.9716\n",
      "Epoch 5/10\n",
      "600/600 [==============================] - 9s 14ms/step - loss: 0.2503 - accuracy: 0.9335 - val_loss: 0.1011 - val_accuracy: 0.9724\n",
      "Epoch 6/10\n",
      "600/600 [==============================] - 9s 15ms/step - loss: 0.2350 - accuracy: 0.9358 - val_loss: 0.0959 - val_accuracy: 0.9742\n",
      "Epoch 7/10\n",
      "600/600 [==============================] - 10s 16ms/step - loss: 0.2208 - accuracy: 0.9410 - val_loss: 0.0808 - val_accuracy: 0.9786\n",
      "Epoch 8/10\n",
      "600/600 [==============================] - 8s 13ms/step - loss: 0.2157 - accuracy: 0.9417 - val_loss: 0.0875 - val_accuracy: 0.9759\n",
      "Epoch 9/10\n",
      "600/600 [==============================] - 8s 13ms/step - loss: 0.1998 - accuracy: 0.9463 - val_loss: 0.0958 - val_accuracy: 0.9761\n",
      "Epoch 10/10\n",
      "600/600 [==============================] - 8s 13ms/step - loss: 0.1974 - accuracy: 0.9472 - val_loss: 0.0888 - val_accuracy: 0.9774\n"
     ]
    }
   ],
   "source": [
    "history=model.fit(X_train_digit, y_train_digit, batch_size=100, epochs=10,validation_data=(X_test_digit, y_test_digit))"
   ]
  },
  {
   "cell_type": "code",
   "execution_count": 40,
   "id": "f01f0322",
   "metadata": {},
   "outputs": [
    {
     "name": "stdout",
     "output_type": "stream",
     "text": [
      "313/313 [==============================] - 2s 6ms/step - loss: 0.0888 - accuracy: 0.9774\n"
     ]
    }
   ],
   "source": [
    "test_loss_digit, test_acc_digit = model.evaluate(X_test_digit, y_test_digit)"
   ]
  },
  {
   "cell_type": "code",
   "execution_count": 41,
   "id": "714aae2d",
   "metadata": {},
   "outputs": [
    {
     "name": "stdout",
     "output_type": "stream",
     "text": [
      "Digit MNIST Test accuracy: 0.9774\n"
     ]
    }
   ],
   "source": [
    "print('Digit MNIST Test accuracy:', round(test_acc_digit,4))"
   ]
  },
  {
   "cell_type": "code",
   "execution_count": 42,
   "id": "25b571ac",
   "metadata": {},
   "outputs": [
    {
     "name": "stdout",
     "output_type": "stream",
     "text": [
      "WARNING:tensorflow:AutoGraph could not transform <function Model.make_predict_function.<locals>.predict_function at 0x000001DB2DE228B8> and will run it as-is.\n",
      "Please report this to the TensorFlow team. When filing the bug, set the verbosity to 10 (on Linux, `export AUTOGRAPH_VERBOSITY=10`) and attach the full output.\n",
      "Cause: 'arguments' object has no attribute 'posonlyargs'\n",
      "To silence this warning, decorate the function with @tf.autograph.experimental.do_not_convert\n",
      "WARNING: AutoGraph could not transform <function Model.make_predict_function.<locals>.predict_function at 0x000001DB2DE228B8> and will run it as-is.\n",
      "Please report this to the TensorFlow team. When filing the bug, set the verbosity to 10 (on Linux, `export AUTOGRAPH_VERBOSITY=10`) and attach the full output.\n",
      "Cause: 'arguments' object has no attribute 'posonlyargs'\n",
      "To silence this warning, decorate the function with @tf.autograph.experimental.do_not_convert\n"
     ]
    }
   ],
   "source": [
    "#Predicting the labels-DIGIT\n",
    "y_predict = model.predict(X_test_digit)\n"
   ]
  },
  {
   "cell_type": "code",
   "execution_count": 43,
   "id": "942cdfdf",
   "metadata": {},
   "outputs": [],
   "source": [
    "y_predict=np.argmax(y_predict, axis=1) # Here we get the index of maximum value in the encoded vector\n",
    "y_test_digit_eval=np.argmax(y_test_digit, axis=1)"
   ]
  },
  {
   "cell_type": "code",
   "execution_count": 44,
   "id": "4d9bc3ef",
   "metadata": {},
   "outputs": [],
   "source": [
    "y_pre=pd.DataFrame(y_predict)"
   ]
  },
  {
   "cell_type": "code",
   "execution_count": 45,
   "id": "da52ebf2",
   "metadata": {},
   "outputs": [
    {
     "data": {
      "text/html": [
       "<div>\n",
       "<style scoped>\n",
       "    .dataframe tbody tr th:only-of-type {\n",
       "        vertical-align: middle;\n",
       "    }\n",
       "\n",
       "    .dataframe tbody tr th {\n",
       "        vertical-align: top;\n",
       "    }\n",
       "\n",
       "    .dataframe thead th {\n",
       "        text-align: right;\n",
       "    }\n",
       "</style>\n",
       "<table border=\"1\" class=\"dataframe\">\n",
       "  <thead>\n",
       "    <tr style=\"text-align: right;\">\n",
       "      <th></th>\n",
       "      <th>0</th>\n",
       "    </tr>\n",
       "  </thead>\n",
       "  <tbody>\n",
       "    <tr>\n",
       "      <th>0</th>\n",
       "      <td>7</td>\n",
       "    </tr>\n",
       "    <tr>\n",
       "      <th>1</th>\n",
       "      <td>2</td>\n",
       "    </tr>\n",
       "    <tr>\n",
       "      <th>2</th>\n",
       "      <td>1</td>\n",
       "    </tr>\n",
       "    <tr>\n",
       "      <th>3</th>\n",
       "      <td>0</td>\n",
       "    </tr>\n",
       "    <tr>\n",
       "      <th>4</th>\n",
       "      <td>4</td>\n",
       "    </tr>\n",
       "    <tr>\n",
       "      <th>...</th>\n",
       "      <td>...</td>\n",
       "    </tr>\n",
       "    <tr>\n",
       "      <th>9995</th>\n",
       "      <td>2</td>\n",
       "    </tr>\n",
       "    <tr>\n",
       "      <th>9996</th>\n",
       "      <td>3</td>\n",
       "    </tr>\n",
       "    <tr>\n",
       "      <th>9997</th>\n",
       "      <td>4</td>\n",
       "    </tr>\n",
       "    <tr>\n",
       "      <th>9998</th>\n",
       "      <td>5</td>\n",
       "    </tr>\n",
       "    <tr>\n",
       "      <th>9999</th>\n",
       "      <td>6</td>\n",
       "    </tr>\n",
       "  </tbody>\n",
       "</table>\n",
       "<p>10000 rows × 1 columns</p>\n",
       "</div>"
      ],
      "text/plain": [
       "      0\n",
       "0     7\n",
       "1     2\n",
       "2     1\n",
       "3     0\n",
       "4     4\n",
       "...  ..\n",
       "9995  2\n",
       "9996  3\n",
       "9997  4\n",
       "9998  5\n",
       "9999  6\n",
       "\n",
       "[10000 rows x 1 columns]"
      ]
     },
     "execution_count": 45,
     "metadata": {},
     "output_type": "execute_result"
    }
   ],
   "source": [
    "y_pre"
   ]
  },
  {
   "cell_type": "code",
   "execution_count": 46,
   "id": "defd128b",
   "metadata": {},
   "outputs": [
    {
     "data": {
      "text/plain": [
       "array([7, 2, 1, ..., 4, 5, 6], dtype=int64)"
      ]
     },
     "execution_count": 46,
     "metadata": {},
     "output_type": "execute_result"
    }
   ],
   "source": [
    "y_test_digit_eval"
   ]
  },
  {
   "cell_type": "code",
   "execution_count": 47,
   "id": "4df86db2",
   "metadata": {},
   "outputs": [
    {
     "data": {
      "image/png": "[encoded data removed]",
      "text/plain": [
       "<Figure size 720x720 with 2 Axes>"
      ]
     },
     "metadata": {
      "needs_background": "light"
     },
     "output_type": "display_data"
    }
   ],
   "source": [
    "#Confusion matrix for Digit MNIST\n",
    "con_mat=confusion_matrix(y_test_digit_eval,y_predict)\n",
    "plt.style.use('seaborn-deep')\n",
    "plt.figure(figsize=(10,10))\n",
    "sns.heatmap(con_mat,annot=True,annot_kws={'size': 15},linewidths=0.5,fmt=\"d\",cmap=\"gray\")\n",
    "plt.title('True or False predicted digit MNIST\\n',fontweight='bold',fontsize=15)\n",
    "plt.show()"
   ]
  },
  {
   "cell_type": "code",
   "execution_count": 48,
   "id": "ccaf1195",
   "metadata": {},
   "outputs": [
    {
     "name": "stdout",
     "output_type": "stream",
     "text": [
      "              precision    recall  f1-score   support\n",
      "\n",
      "           0       0.97      0.99      0.98       980\n",
      "           1       0.99      0.99      0.99      1135\n",
      "           2       0.97      0.98      0.98      1032\n",
      "           3       0.97      0.98      0.97      1010\n",
      "           4       0.98      0.97      0.98       982\n",
      "           5       0.98      0.97      0.97       892\n",
      "           6       0.98      0.98      0.98       958\n",
      "           7       0.97      0.98      0.98      1028\n",
      "           8       0.97      0.98      0.97       974\n",
      "           9       0.98      0.96      0.97      1009\n",
      "\n",
      "    accuracy                           0.98     10000\n",
      "   macro avg       0.98      0.98      0.98     10000\n",
      "weighted avg       0.98      0.98      0.98     10000\n",
      "\n"
     ]
    }
   ],
   "source": [
    "from sklearn.metrics import classification_report\n",
    "\n",
    "print(classification_report(y_test_digit_eval,y_predict))"
   ]
  },
  {
   "cell_type": "code",
   "execution_count": 19,
   "id": "4524676a",
   "metadata": {},
   "outputs": [
    {
     "name": "stdout",
     "output_type": "stream",
     "text": [
      "dict_keys(['loss', 'accuracy', 'val_loss', 'val_accuracy'])\n"
     ]
    }
   ],
   "source": [
    "print(history.history.keys())\n"
   ]
  },
  {
   "cell_type": "code",
   "execution_count": 34,
   "id": "aa9ce48c",
   "metadata": {},
   "outputs": [
    {
     "data": {
      "image/png": "[encoded data removed]",
      "text/plain": [
       "<Figure size 432x288 with 1 Axes>"
      ]
     },
     "metadata": {
      "needs_background": "light"
     },
     "output_type": "display_data"
    }
   ],
   "source": [
    "# summarize history for accuracy\n",
    "plt.plot(history.history['accuracy'])\n",
    "plt.plot(history.history['val_accuracy'])\n",
    "plt.title('model accuracy')\n",
    "plt.ylabel('accuracy')\n",
    "plt.xlabel('epoch')\n",
    "plt.legend(['train', 'test'], loc='best')\n",
    "plt.show()\n"
   ]
  },
  {
   "cell_type": "code",
   "execution_count": 21,
   "id": "b102e89d",
   "metadata": {},
   "outputs": [
    {
     "data": {
      "image/png": "[encoded data removed]",
      "text/plain": [
       "<Figure size 432x288 with 1 Axes>"
      ]
     },
     "metadata": {
      "needs_background": "light"
     },
     "output_type": "display_data"
    }
   ],
   "source": [
    "plt.plot(history.history['loss'])\n",
    "plt.plot(history.history['val_loss'])\n",
    "plt.title('model loss')\n",
    "plt.ylabel('loss')\n",
    "plt.xlabel('epoch')\n",
    "plt.legend(['train', 'test'], loc='best')\n",
    "plt.show()"
   ]
  },
  {
   "cell_type": "code",
   "execution_count": 56,
   "id": "080c3c02",
   "metadata": {},
   "outputs": [],
   "source": [
    "#tf.expand_dims(X_test_digit[0])\n",
    "y_predict = model.predict(X_test_digit[[0]])\n",
    "y_predict=np.argmax(y_predict, axis=1) # Here we get the index of maximum value in the encoded vector\n",
    "y_test_digit_eval=np.argmax(y_test_digit, axis=1)"
   ]
  },
  {
   "cell_type": "code",
   "execution_count": 57,
   "id": "b6f83302",
   "metadata": {},
   "outputs": [
    {
     "data": {
      "text/plain": [
       "7"
      ]
     },
     "execution_count": 57,
     "metadata": {},
     "output_type": "execute_result"
    }
   ],
   "source": [
    "y_predict[0]"
   ]
  },
  {
   "cell_type": "code",
   "execution_count": 58,
   "id": "7097e802",
   "metadata": {},
   "outputs": [
    {
     "data": {
      "image/png": "[encoded data removed]",
      "text/plain": [
       "<Figure size 432x288 with 1 Axes>"
      ]
     },
     "metadata": {
      "needs_background": "light"
     },
     "output_type": "display_data"
    }
   ],
   "source": [
    "#Names of numbers in the dataset in order\n",
    "col_names = ['Zero','One','Two','Three','Four','Five','Six','Seven','Eight','Nine']\n",
    "\n",
    "#Visualizing the digits\n",
    "#plt.figure(figsize=(10,10))\n",
    "plt.imshow(X_test_digit[0].reshape(28,28), cmap='gray')\n",
    "plt.xlabel(\"Actual:{},Pred:{}\".format(col_names[np.argmax(y_test_digit[0])],col_names[y_predict[0]]))\n",
    "plt.show()"
   ]
  },
  {
   "cell_type": "code",
   "execution_count": 52,
   "id": "8994d7bd",
   "metadata": {},
   "outputs": [
    {
     "data": {
      "text/plain": [
       "array([0., 0., 0., 0., 0., 1., 0., 0., 0., 0.], dtype=float32)"
      ]
     },
     "execution_count": 52,
     "metadata": {},
     "output_type": "execute_result"
    }
   ],
   "source": [
    "y_test_digit[8]"
   ]
  },
  {
   "cell_type": "code",
   "execution_count": null,
   "id": "56cdeba7",
   "metadata": {},
   "outputs": [],
   "source": []
  }
 ],
 "metadata": {
  "kernelspec": {
   "display_name": "Python 3",
   "language": "python",
   "name": "python3"
  },
  "language_info": {
   "codemirror_mode": {
    "name": "ipython",
    "version": 3
   },
   "file_extension": ".py",
   "mimetype": "text/x-python",
   "name": "python",
   "nbconvert_exporter": "python",
   "pygments_lexer": "ipython3",
   "version": "3.7.6"
  }
 },
 "nbformat": 4,
 "nbformat_minor": 5
}
